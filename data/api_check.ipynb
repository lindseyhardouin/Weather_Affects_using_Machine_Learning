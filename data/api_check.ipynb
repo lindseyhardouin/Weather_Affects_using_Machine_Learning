{
 "cells": [
  {
   "cell_type": "code",
   "execution_count": 1,
   "id": "736498e8-e243-404a-b1af-969d71f54efe",
   "metadata": {},
   "outputs": [],
   "source": [
    "import os\n",
    "import requests\n",
    "import pandas as pd\n",
    "import json\n",
    "import datetime\n",
    "from dotenv import load_dotenv\n",
    "from pathlib import Path"
   ]
  },
  {
   "cell_type": "code",
   "execution_count": 116,
   "id": "b22748bb-2c0f-4515-af37-bb1db74473a4",
   "metadata": {},
   "outputs": [
    {
     "data": {
      "text/plain": [
       "str"
      ]
     },
     "metadata": {},
     "output_type": "display_data"
    }
   ],
   "source": [
    "weather_data = pd.read_csv(\n",
    "    Path('cleaned_data/df_weather_data.csv')\n",
    ")\n",
    "\n",
    "locations = pd.read_csv(\n",
    "    Path('blmn_locs.csv')\n",
    ")\n",
    "\n",
    "load_dotenv()\n",
    "\n",
    "# Connecting API key in .env to weather_api_key function\n",
    "weather_api_key = os.getenv(\"WEATHER_API_KEY\")\n",
    "display(type(weather_api_key))\n",
    "\n",
    "#Setting Request URL and creating list for responses from API\n",
    "request_url = \"https://api.weatherstack.com/historical\""
   ]
  },
  {
   "cell_type": "code",
   "execution_count": 46,
   "id": "29ca66b3-6200-4338-af93-c99c389acc00",
   "metadata": {},
   "outputs": [
    {
     "name": "stderr",
     "output_type": "stream",
     "text": [
      "C:\\Users\\carra\\anaconda3\\envs\\dev\\lib\\site-packages\\ipykernel_launcher.py:2: SettingWithCopyWarning: \n",
      "A value is trying to be set on a copy of a slice from a DataFrame.\n",
      "Try using .loc[row_indexer,col_indexer] = value instead\n",
      "\n",
      "See the caveats in the documentation: https://pandas.pydata.org/pandas-docs/stable/user_guide/indexing.html#returning-a-view-versus-a-copy\n",
      "  \n",
      "C:\\Users\\carra\\anaconda3\\envs\\dev\\lib\\site-packages\\ipykernel_launcher.py:3: SettingWithCopyWarning: \n",
      "A value is trying to be set on a copy of a slice from a DataFrame.\n",
      "Try using .loc[row_indexer,col_indexer] = value instead\n",
      "\n",
      "See the caveats in the documentation: https://pandas.pydata.org/pandas-docs/stable/user_guide/indexing.html#returning-a-view-versus-a-copy\n",
      "  This is separate from the ipykernel package so we can avoid doing imports until\n"
     ]
    }
   ],
   "source": [
    "check_df = weather_data[['request.query', 'date']]\n",
    "check_df['request.query']= check_df['request.query'].apply(str)\n",
    "check_df['key'] = check_df['request.query'] + check_df['date']\n",
    "check_list = check_df['key'].to_list()\n"
   ]
  },
  {
   "cell_type": "code",
   "execution_count": 48,
   "id": "33f07904-bce4-4bc2-8af3-a992e04ec0f1",
   "metadata": {},
   "outputs": [],
   "source": [
    "dates = list()\n",
    "start_date = datetime.date(2021, 1, 1)\n",
    "numdays = 59\n",
    "for x in range (0, numdays):\n",
    "    dates.append((start_date + datetime.timedelta(days = x)).strftime(\"%Y-%m-%d\"))"
   ]
  },
  {
   "cell_type": "code",
   "execution_count": 49,
   "id": "153d0b79-351e-4625-bdc7-f925fb5e5f6a",
   "metadata": {},
   "outputs": [
    {
     "data": {
      "text/plain": [
       "817"
      ]
     },
     "execution_count": 49,
     "metadata": {},
     "output_type": "execute_result"
    }
   ],
   "source": [
    "zip_codes = locations['zip_code'].unique()\n",
    "zip_codes = [str(int) for int in zip_codes]\n",
    "len(zip_codes)"
   ]
  },
  {
   "cell_type": "code",
   "execution_count": 50,
   "id": "260d1fe9-9b0b-4539-bb91-599247c9bb2e",
   "metadata": {},
   "outputs": [],
   "source": [
    "check_key = []\n",
    "\n",
    "for zip in zip_codes:\n",
    "    for date in dates:\n",
    "        x = zip + date\n",
    "        check_key.append(x)\n",
    "\n",
    "    "
   ]
  },
  {
   "cell_type": "code",
   "execution_count": 51,
   "id": "53f6cf69-a314-4982-b860-17e55d5872f0",
   "metadata": {},
   "outputs": [
    {
     "data": {
      "text/plain": [
       "48203"
      ]
     },
     "execution_count": 51,
     "metadata": {},
     "output_type": "execute_result"
    }
   ],
   "source": [
    "len(check_key)"
   ]
  },
  {
   "cell_type": "code",
   "execution_count": 52,
   "id": "e0558108-2bfe-41f0-a156-63ebd4c36a0a",
   "metadata": {},
   "outputs": [],
   "source": [
    "def non_match_elements(check_key, check_list):\n",
    "    non_match = []\n",
    "    for i in check_key:\n",
    "        if i not in check_list:\n",
    "            non_match.append(i)\n",
    "    return non_match"
   ]
  },
  {
   "cell_type": "code",
   "execution_count": 63,
   "id": "0c128cd8-9d85-4dd5-b058-0dd52f4c5f37",
   "metadata": {},
   "outputs": [
    {
     "data": {
      "text/plain": [
       "4323"
      ]
     },
     "execution_count": 63,
     "metadata": {},
     "output_type": "execute_result"
    }
   ],
   "source": [
    "non_match = non_match_elements(check_key, check_list)\n",
    "len(non_match)"
   ]
  },
  {
   "cell_type": "code",
   "execution_count": 64,
   "id": "a08f1152-b9a2-4fa8-bfaa-5d0a4fd53989",
   "metadata": {},
   "outputs": [
    {
     "data": {
      "text/plain": [
       "43880"
      ]
     },
     "execution_count": 64,
     "metadata": {},
     "output_type": "execute_result"
    }
   ],
   "source": [
    "unique_key = check_df['key'].unique()\n",
    "len(unique_key)"
   ]
  },
  {
   "cell_type": "code",
   "execution_count": 102,
   "id": "758135f3-8886-48fd-8d3d-a722af0d7a2c",
   "metadata": {},
   "outputs": [
    {
     "data": {
      "text/plain": [
       "15"
      ]
     },
     "execution_count": 102,
     "metadata": {},
     "output_type": "execute_result"
    }
   ],
   "source": [
    "to_add_date = []\n",
    "to_add_zip = []\n",
    "len(non_match[0])"
   ]
  },
  {
   "cell_type": "code",
   "execution_count": 104,
   "id": "5e06f798-d077-4ab1-8264-2cdd85f312be",
   "metadata": {},
   "outputs": [],
   "source": [
    "for i in non_match:\n",
    "    x = i[-10:]\n",
    "    to_add_date.append(x)"
   ]
  },
  {
   "cell_type": "code",
   "execution_count": 105,
   "id": "95dd5e2f-ffb7-4f92-bf12-81294af78e16",
   "metadata": {},
   "outputs": [],
   "source": [
    "for i in non_match:\n",
    "    x = len(i) - 10\n",
    "    y = i[:x]\n",
    "    to_add_zip.append(y)\n",
    "    \n"
   ]
  },
  {
   "cell_type": "code",
   "execution_count": 119,
   "id": "8a6537ac-3d77-46e5-b3c2-83fd604db8f8",
   "metadata": {},
   "outputs": [],
   "source": [
    "responses = []\n"
   ]
  },
  {
   "cell_type": "code",
   "execution_count": 121,
   "id": "b633dc60-6a61-490e-93c1-7a5225f23700",
   "metadata": {},
   "outputs": [],
   "source": [
    "\n",
    "for i in non_match:\n",
    "    x = len(i) - 10\n",
    "    date_api = i[-10:]\n",
    "    zip_api = i[:x]\n",
    "    \n",
    "    params = dict(\n",
    "    access_key=weather_api_key,\n",
    "    query= zip_api,\n",
    "    historical_date = date_api,\n",
    "    hourly=1, \n",
    "    interval=24)\n",
    "    \n",
    "    \n",
    "    rr= requests.get(request_url, params=params)\n",
    "    data = json.loads(rr.text)\n",
    "    responses.append(data)"
   ]
  },
  {
   "cell_type": "code",
   "execution_count": 124,
   "id": "dd5681ac-b3bc-420b-aaf6-9de2411330dc",
   "metadata": {},
   "outputs": [],
   "source": [
    "with open('api_responses/weather_data_missing_1102022.json', 'w') as json_file:\n",
    "    json.dump(responses, json_file)"
   ]
  },
  {
   "cell_type": "code",
   "execution_count": 135,
   "id": "ecc90a56-1750-4215-93ae-cbec02f9ca8c",
   "metadata": {},
   "outputs": [],
   "source": [
    "df_weather_data = pd.read_csv(\n",
    "    Path('cleaned_data/df_weather_data.csv')\n",
    ")\n",
    "df_weather_data_add = pd.read_csv(\n",
    "    Path('cleaned_data/df_weather_data_01102022.csv')\n",
    ")\n",
    "    "
   ]
  },
  {
   "cell_type": "code",
   "execution_count": 136,
   "id": "391c3ad3-e6d5-46de-823a-6201b572ddde",
   "metadata": {},
   "outputs": [
    {
     "data": {
      "text/html": [
       "<div>\n",
       "<style scoped>\n",
       "    .dataframe tbody tr th:only-of-type {\n",
       "        vertical-align: middle;\n",
       "    }\n",
       "\n",
       "    .dataframe tbody tr th {\n",
       "        vertical-align: top;\n",
       "    }\n",
       "\n",
       "    .dataframe thead th {\n",
       "        text-align: right;\n",
       "    }\n",
       "</style>\n",
       "<table border=\"1\" class=\"dataframe\">\n",
       "  <thead>\n",
       "    <tr style=\"text-align: right;\">\n",
       "      <th></th>\n",
       "      <th>Unnamed: 0</th>\n",
       "      <th>request.type</th>\n",
       "      <th>request.query</th>\n",
       "      <th>request.language</th>\n",
       "      <th>request.unit</th>\n",
       "      <th>location.name</th>\n",
       "      <th>location.country</th>\n",
       "      <th>location.region</th>\n",
       "      <th>location.lat</th>\n",
       "      <th>location.lon</th>\n",
       "      <th>...</th>\n",
       "      <th>dewpoint</th>\n",
       "      <th>windchill</th>\n",
       "      <th>windgust</th>\n",
       "      <th>feelslike</th>\n",
       "      <th>date</th>\n",
       "      <th>mintemp</th>\n",
       "      <th>maxtemp</th>\n",
       "      <th>avgtemp</th>\n",
       "      <th>totalsnow</th>\n",
       "      <th>sunhour</th>\n",
       "    </tr>\n",
       "  </thead>\n",
       "  <tbody>\n",
       "    <tr>\n",
       "      <th>47653</th>\n",
       "      <td>47653</td>\n",
       "      <td>Zipcode</td>\n",
       "      <td>32812</td>\n",
       "      <td>en</td>\n",
       "      <td>m</td>\n",
       "      <td>Orlando</td>\n",
       "      <td>USA</td>\n",
       "      <td>Florida</td>\n",
       "      <td>28.490</td>\n",
       "      <td>-81.320</td>\n",
       "      <td>...</td>\n",
       "      <td>19</td>\n",
       "      <td>24</td>\n",
       "      <td>21</td>\n",
       "      <td>25</td>\n",
       "      <td>2021-02-28</td>\n",
       "      <td>20</td>\n",
       "      <td>29</td>\n",
       "      <td>25</td>\n",
       "      <td>0.0</td>\n",
       "      <td>11.6</td>\n",
       "    </tr>\n",
       "    <tr>\n",
       "      <th>47654</th>\n",
       "      <td>47654</td>\n",
       "      <td>Zipcode</td>\n",
       "      <td>32821</td>\n",
       "      <td>en</td>\n",
       "      <td>m</td>\n",
       "      <td>Orlando</td>\n",
       "      <td>USA</td>\n",
       "      <td>Florida</td>\n",
       "      <td>28.379</td>\n",
       "      <td>-81.468</td>\n",
       "      <td>...</td>\n",
       "      <td>18</td>\n",
       "      <td>24</td>\n",
       "      <td>22</td>\n",
       "      <td>26</td>\n",
       "      <td>2021-02-28</td>\n",
       "      <td>20</td>\n",
       "      <td>29</td>\n",
       "      <td>25</td>\n",
       "      <td>0.0</td>\n",
       "      <td>11.6</td>\n",
       "    </tr>\n",
       "    <tr>\n",
       "      <th>47655</th>\n",
       "      <td>47655</td>\n",
       "      <td>Zipcode</td>\n",
       "      <td>33418</td>\n",
       "      <td>en</td>\n",
       "      <td>m</td>\n",
       "      <td>Palm Beach Gardens</td>\n",
       "      <td>USA</td>\n",
       "      <td>Florida</td>\n",
       "      <td>26.860</td>\n",
       "      <td>-80.140</td>\n",
       "      <td>...</td>\n",
       "      <td>20</td>\n",
       "      <td>25</td>\n",
       "      <td>33</td>\n",
       "      <td>27</td>\n",
       "      <td>2021-02-28</td>\n",
       "      <td>24</td>\n",
       "      <td>26</td>\n",
       "      <td>25</td>\n",
       "      <td>0.0</td>\n",
       "      <td>8.7</td>\n",
       "    </tr>\n",
       "    <tr>\n",
       "      <th>47656</th>\n",
       "      <td>47656</td>\n",
       "      <td>Zipcode</td>\n",
       "      <td>32504</td>\n",
       "      <td>en</td>\n",
       "      <td>m</td>\n",
       "      <td>Pensacola</td>\n",
       "      <td>USA</td>\n",
       "      <td>Florida</td>\n",
       "      <td>30.490</td>\n",
       "      <td>-87.180</td>\n",
       "      <td>...</td>\n",
       "      <td>19</td>\n",
       "      <td>21</td>\n",
       "      <td>22</td>\n",
       "      <td>22</td>\n",
       "      <td>2021-02-28</td>\n",
       "      <td>20</td>\n",
       "      <td>24</td>\n",
       "      <td>22</td>\n",
       "      <td>0.0</td>\n",
       "      <td>4.2</td>\n",
       "    </tr>\n",
       "    <tr>\n",
       "      <th>47657</th>\n",
       "      <td>47657</td>\n",
       "      <td>Zipcode</td>\n",
       "      <td>33322</td>\n",
       "      <td>en</td>\n",
       "      <td>m</td>\n",
       "      <td>Fort Lauderdale</td>\n",
       "      <td>USA</td>\n",
       "      <td>Florida</td>\n",
       "      <td>26.150</td>\n",
       "      <td>-80.270</td>\n",
       "      <td>...</td>\n",
       "      <td>19</td>\n",
       "      <td>26</td>\n",
       "      <td>31</td>\n",
       "      <td>27</td>\n",
       "      <td>2021-02-28</td>\n",
       "      <td>24</td>\n",
       "      <td>28</td>\n",
       "      <td>26</td>\n",
       "      <td>0.0</td>\n",
       "      <td>8.7</td>\n",
       "    </tr>\n",
       "  </tbody>\n",
       "</table>\n",
       "<p>5 rows × 29 columns</p>\n",
       "</div>"
      ],
      "text/plain": [
       "       Unnamed: 0 request.type  request.query request.language request.unit  \\\n",
       "47653       47653      Zipcode          32812               en            m   \n",
       "47654       47654      Zipcode          32821               en            m   \n",
       "47655       47655      Zipcode          33418               en            m   \n",
       "47656       47656      Zipcode          32504               en            m   \n",
       "47657       47657      Zipcode          33322               en            m   \n",
       "\n",
       "            location.name location.country location.region  location.lat  \\\n",
       "47653             Orlando              USA         Florida        28.490   \n",
       "47654             Orlando              USA         Florida        28.379   \n",
       "47655  Palm Beach Gardens              USA         Florida        26.860   \n",
       "47656           Pensacola              USA         Florida        30.490   \n",
       "47657     Fort Lauderdale              USA         Florida        26.150   \n",
       "\n",
       "       location.lon  ... dewpoint  windchill  windgust  feelslike        date  \\\n",
       "47653       -81.320  ...       19         24        21         25  2021-02-28   \n",
       "47654       -81.468  ...       18         24        22         26  2021-02-28   \n",
       "47655       -80.140  ...       20         25        33         27  2021-02-28   \n",
       "47656       -87.180  ...       19         21        22         22  2021-02-28   \n",
       "47657       -80.270  ...       19         26        31         27  2021-02-28   \n",
       "\n",
       "       mintemp  maxtemp  avgtemp  totalsnow  sunhour  \n",
       "47653       20       29       25        0.0     11.6  \n",
       "47654       20       29       25        0.0     11.6  \n",
       "47655       24       26       25        0.0      8.7  \n",
       "47656       20       24       22        0.0      4.2  \n",
       "47657       24       28       26        0.0      8.7  \n",
       "\n",
       "[5 rows x 29 columns]"
      ]
     },
     "execution_count": 136,
     "metadata": {},
     "output_type": "execute_result"
    }
   ],
   "source": [
    "df_weather_data.tail()"
   ]
  },
  {
   "cell_type": "code",
   "execution_count": 137,
   "id": "2a5130f7-3e5f-4237-9242-b5801a6cfffe",
   "metadata": {},
   "outputs": [],
   "source": [
    "df_weather_data = pd.concat([df_weather_data, df_weather_data_add], ignore_index=True, axis=0)"
   ]
  },
  {
   "cell_type": "code",
   "execution_count": 138,
   "id": "149e8199-e49d-4e61-8d90-73c0498e10d4",
   "metadata": {},
   "outputs": [
    {
     "data": {
      "text/html": [
       "<div>\n",
       "<style scoped>\n",
       "    .dataframe tbody tr th:only-of-type {\n",
       "        vertical-align: middle;\n",
       "    }\n",
       "\n",
       "    .dataframe tbody tr th {\n",
       "        vertical-align: top;\n",
       "    }\n",
       "\n",
       "    .dataframe thead th {\n",
       "        text-align: right;\n",
       "    }\n",
       "</style>\n",
       "<table border=\"1\" class=\"dataframe\">\n",
       "  <thead>\n",
       "    <tr style=\"text-align: right;\">\n",
       "      <th></th>\n",
       "      <th>Unnamed: 0</th>\n",
       "      <th>request.type</th>\n",
       "      <th>request.query</th>\n",
       "      <th>request.language</th>\n",
       "      <th>request.unit</th>\n",
       "      <th>location.name</th>\n",
       "      <th>location.country</th>\n",
       "      <th>location.region</th>\n",
       "      <th>location.lat</th>\n",
       "      <th>location.lon</th>\n",
       "      <th>...</th>\n",
       "      <th>dewpoint</th>\n",
       "      <th>windchill</th>\n",
       "      <th>windgust</th>\n",
       "      <th>feelslike</th>\n",
       "      <th>date</th>\n",
       "      <th>mintemp</th>\n",
       "      <th>maxtemp</th>\n",
       "      <th>avgtemp</th>\n",
       "      <th>totalsnow</th>\n",
       "      <th>sunhour</th>\n",
       "    </tr>\n",
       "  </thead>\n",
       "  <tbody>\n",
       "    <tr>\n",
       "      <th>49203</th>\n",
       "      <td>1545</td>\n",
       "      <td>Zipcode</td>\n",
       "      <td>33322</td>\n",
       "      <td>en</td>\n",
       "      <td>m</td>\n",
       "      <td>Fort Lauderdale</td>\n",
       "      <td>USA</td>\n",
       "      <td>Florida</td>\n",
       "      <td>26.15</td>\n",
       "      <td>-80.274</td>\n",
       "      <td>...</td>\n",
       "      <td>19</td>\n",
       "      <td>26</td>\n",
       "      <td>16</td>\n",
       "      <td>27</td>\n",
       "      <td>2021-01-27</td>\n",
       "      <td>22</td>\n",
       "      <td>29</td>\n",
       "      <td>26</td>\n",
       "      <td>0.0</td>\n",
       "      <td>10.9</td>\n",
       "    </tr>\n",
       "    <tr>\n",
       "      <th>49204</th>\n",
       "      <td>1546</td>\n",
       "      <td>Zipcode</td>\n",
       "      <td>33322</td>\n",
       "      <td>en</td>\n",
       "      <td>m</td>\n",
       "      <td>Fort Lauderdale</td>\n",
       "      <td>USA</td>\n",
       "      <td>Florida</td>\n",
       "      <td>26.15</td>\n",
       "      <td>-80.274</td>\n",
       "      <td>...</td>\n",
       "      <td>12</td>\n",
       "      <td>21</td>\n",
       "      <td>29</td>\n",
       "      <td>21</td>\n",
       "      <td>2021-01-28</td>\n",
       "      <td>15</td>\n",
       "      <td>22</td>\n",
       "      <td>21</td>\n",
       "      <td>0.0</td>\n",
       "      <td>10.1</td>\n",
       "    </tr>\n",
       "    <tr>\n",
       "      <th>49205</th>\n",
       "      <td>1547</td>\n",
       "      <td>Zipcode</td>\n",
       "      <td>33322</td>\n",
       "      <td>en</td>\n",
       "      <td>m</td>\n",
       "      <td>Fort Lauderdale</td>\n",
       "      <td>USA</td>\n",
       "      <td>Florida</td>\n",
       "      <td>26.15</td>\n",
       "      <td>-80.274</td>\n",
       "      <td>...</td>\n",
       "      <td>10</td>\n",
       "      <td>18</td>\n",
       "      <td>27</td>\n",
       "      <td>18</td>\n",
       "      <td>2021-01-29</td>\n",
       "      <td>17</td>\n",
       "      <td>19</td>\n",
       "      <td>18</td>\n",
       "      <td>0.0</td>\n",
       "      <td>7.0</td>\n",
       "    </tr>\n",
       "    <tr>\n",
       "      <th>49206</th>\n",
       "      <td>1548</td>\n",
       "      <td>Zipcode</td>\n",
       "      <td>33322</td>\n",
       "      <td>en</td>\n",
       "      <td>m</td>\n",
       "      <td>Fort Lauderdale</td>\n",
       "      <td>USA</td>\n",
       "      <td>Florida</td>\n",
       "      <td>26.15</td>\n",
       "      <td>-80.274</td>\n",
       "      <td>...</td>\n",
       "      <td>11</td>\n",
       "      <td>19</td>\n",
       "      <td>24</td>\n",
       "      <td>19</td>\n",
       "      <td>2021-01-30</td>\n",
       "      <td>18</td>\n",
       "      <td>20</td>\n",
       "      <td>19</td>\n",
       "      <td>0.0</td>\n",
       "      <td>5.5</td>\n",
       "    </tr>\n",
       "    <tr>\n",
       "      <th>49207</th>\n",
       "      <td>1549</td>\n",
       "      <td>Zipcode</td>\n",
       "      <td>33322</td>\n",
       "      <td>en</td>\n",
       "      <td>m</td>\n",
       "      <td>Fort Lauderdale</td>\n",
       "      <td>USA</td>\n",
       "      <td>Florida</td>\n",
       "      <td>26.15</td>\n",
       "      <td>-80.274</td>\n",
       "      <td>...</td>\n",
       "      <td>14</td>\n",
       "      <td>22</td>\n",
       "      <td>24</td>\n",
       "      <td>23</td>\n",
       "      <td>2021-01-31</td>\n",
       "      <td>17</td>\n",
       "      <td>24</td>\n",
       "      <td>22</td>\n",
       "      <td>0.0</td>\n",
       "      <td>10.1</td>\n",
       "    </tr>\n",
       "  </tbody>\n",
       "</table>\n",
       "<p>5 rows × 29 columns</p>\n",
       "</div>"
      ],
      "text/plain": [
       "       Unnamed: 0 request.type  request.query request.language request.unit  \\\n",
       "49203        1545      Zipcode          33322               en            m   \n",
       "49204        1546      Zipcode          33322               en            m   \n",
       "49205        1547      Zipcode          33322               en            m   \n",
       "49206        1548      Zipcode          33322               en            m   \n",
       "49207        1549      Zipcode          33322               en            m   \n",
       "\n",
       "         location.name location.country location.region  location.lat  \\\n",
       "49203  Fort Lauderdale              USA         Florida         26.15   \n",
       "49204  Fort Lauderdale              USA         Florida         26.15   \n",
       "49205  Fort Lauderdale              USA         Florida         26.15   \n",
       "49206  Fort Lauderdale              USA         Florida         26.15   \n",
       "49207  Fort Lauderdale              USA         Florida         26.15   \n",
       "\n",
       "       location.lon  ... dewpoint  windchill  windgust  feelslike        date  \\\n",
       "49203       -80.274  ...       19         26        16         27  2021-01-27   \n",
       "49204       -80.274  ...       12         21        29         21  2021-01-28   \n",
       "49205       -80.274  ...       10         18        27         18  2021-01-29   \n",
       "49206       -80.274  ...       11         19        24         19  2021-01-30   \n",
       "49207       -80.274  ...       14         22        24         23  2021-01-31   \n",
       "\n",
       "       mintemp  maxtemp  avgtemp  totalsnow  sunhour  \n",
       "49203       22       29       26        0.0     10.9  \n",
       "49204       15       22       21        0.0     10.1  \n",
       "49205       17       19       18        0.0      7.0  \n",
       "49206       18       20       19        0.0      5.5  \n",
       "49207       17       24       22        0.0     10.1  \n",
       "\n",
       "[5 rows x 29 columns]"
      ]
     },
     "execution_count": 138,
     "metadata": {},
     "output_type": "execute_result"
    }
   ],
   "source": [
    "df_weather_data.tail()"
   ]
  },
  {
   "cell_type": "code",
   "execution_count": 140,
   "id": "70037280-4842-4a9e-8776-4c5ca45a48b5",
   "metadata": {},
   "outputs": [],
   "source": [
    "#exporting cleaned data to csv\n",
    "df_weather_data.to_csv('cleaned_data/df_weather_data_updated.csv')"
   ]
  },
  {
   "cell_type": "code",
   "execution_count": null,
   "id": "7e37fe40-16fe-4846-9373-9308868c98d3",
   "metadata": {},
   "outputs": [],
   "source": []
  }
 ],
 "metadata": {
  "kernelspec": {
   "display_name": "dev",
   "language": "python",
   "name": "dev"
  },
  "language_info": {
   "codemirror_mode": {
    "name": "ipython",
    "version": 3
   },
   "file_extension": ".py",
   "mimetype": "text/x-python",
   "name": "python",
   "nbconvert_exporter": "python",
   "pygments_lexer": "ipython3",
   "version": "3.7.11"
  }
 },
 "nbformat": 4,
 "nbformat_minor": 5
}
