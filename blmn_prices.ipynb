{
 "cells": [
  {
   "cell_type": "markdown",
   "metadata": {},
   "source": [
    "Imports"
   ]
  },
  {
   "cell_type": "code",
   "execution_count": 1,
   "metadata": {},
   "outputs": [],
   "source": [
    "# Import required libraries\n",
    "\n",
    "import pandas as pd\n",
    "from dotenv import load_dotenv\n",
    "import alpaca_trade_api as tradeapi\n"
   ]
  },
  {
   "cell_type": "code",
   "execution_count": 2,
   "metadata": {},
   "outputs": [
    {
     "data": {
      "text/plain": [
       "True"
      ]
     },
     "execution_count": 2,
     "metadata": {},
     "output_type": "execute_result"
    }
   ],
   "source": [
    "# Load the environment variables from the .env file\n",
    "\n",
    "load_dotenv()\n"
   ]
  },
  {
   "cell_type": "markdown",
   "metadata": {},
   "source": [
    "Ticker"
   ]
  },
  {
   "cell_type": "code",
   "execution_count": 3,
   "metadata": {},
   "outputs": [],
   "source": [
    "# Create variable for Bloomin' Brands ticker\n",
    "\n",
    "ticker = \"BLMN\"\n"
   ]
  },
  {
   "cell_type": "markdown",
   "metadata": {},
   "source": [
    "API keys"
   ]
  },
  {
   "cell_type": "code",
   "execution_count": 4,
   "metadata": {},
   "outputs": [],
   "source": [
    "# Set the variables for the Alpaca API and secret keys\n",
    "\n",
    "alpaca_api_key = os.getenv(\"ALPACA_API_KEY\")\n",
    "alpaca_secret_key = os.getenv(\"ALPACA_SECRET_KEY\")\n",
    "\n",
    "\n",
    "# Create the Alpaca tradeapi.REST object\n",
    "\n",
    "alpaca = tradeapi.REST(\n",
    "    alpaca_api_key,\n",
    "    alpaca_secret_key,\n",
    "    api_version=\"v2\")\n",
    "    "
   ]
  },
  {
   "cell_type": "markdown",
   "metadata": {},
   "source": [
    "Timeframe"
   ]
  },
  {
   "cell_type": "code",
   "execution_count": 5,
   "metadata": {},
   "outputs": [],
   "source": [
    "# Set timeframe to 1D \n",
    "\n",
    "timeframe = \"1D\"\n",
    "\n",
    "\n",
    "# Set timeframe start and end date for 60 period begining 1/1/2021\n",
    "\n",
    "start_date = pd.Timestamp(\"2021-01-01\", tz=\"America/New_York\").isoformat()\n",
    "end_date = pd.Timestamp(\"2021-2-28\", tz=\"America/New_York\").isoformat()\n"
   ]
  },
  {
   "cell_type": "markdown",
   "metadata": {},
   "source": [
    "Alpaca pull"
   ]
  },
  {
   "cell_type": "code",
   "execution_count": 6,
   "metadata": {},
   "outputs": [
    {
     "data": {
      "text/html": [
       "<div>\n",
       "<style scoped>\n",
       "    .dataframe tbody tr th:only-of-type {\n",
       "        vertical-align: middle;\n",
       "    }\n",
       "\n",
       "    .dataframe tbody tr th {\n",
       "        vertical-align: top;\n",
       "    }\n",
       "\n",
       "    .dataframe thead tr th {\n",
       "        text-align: left;\n",
       "    }\n",
       "\n",
       "    .dataframe thead tr:last-of-type th {\n",
       "        text-align: right;\n",
       "    }\n",
       "</style>\n",
       "<table border=\"1\" class=\"dataframe\">\n",
       "  <thead>\n",
       "    <tr>\n",
       "      <th></th>\n",
       "      <th colspan=\"5\" halign=\"left\">BLMN</th>\n",
       "    </tr>\n",
       "    <tr>\n",
       "      <th></th>\n",
       "      <th>open</th>\n",
       "      <th>high</th>\n",
       "      <th>low</th>\n",
       "      <th>close</th>\n",
       "      <th>volume</th>\n",
       "    </tr>\n",
       "    <tr>\n",
       "      <th>time</th>\n",
       "      <th></th>\n",
       "      <th></th>\n",
       "      <th></th>\n",
       "      <th></th>\n",
       "      <th></th>\n",
       "    </tr>\n",
       "  </thead>\n",
       "  <tbody>\n",
       "    <tr>\n",
       "      <th>2021-01-04 00:00:00-05:00</th>\n",
       "      <td>19.43</td>\n",
       "      <td>19.46</td>\n",
       "      <td>17.95</td>\n",
       "      <td>18.340</td>\n",
       "      <td>3106530</td>\n",
       "    </tr>\n",
       "    <tr>\n",
       "      <th>2021-01-05 00:00:00-05:00</th>\n",
       "      <td>18.36</td>\n",
       "      <td>19.27</td>\n",
       "      <td>18.35</td>\n",
       "      <td>19.050</td>\n",
       "      <td>2007548</td>\n",
       "    </tr>\n",
       "    <tr>\n",
       "      <th>2021-01-06 00:00:00-05:00</th>\n",
       "      <td>19.09</td>\n",
       "      <td>20.47</td>\n",
       "      <td>19.09</td>\n",
       "      <td>20.310</td>\n",
       "      <td>3209117</td>\n",
       "    </tr>\n",
       "    <tr>\n",
       "      <th>2021-01-07 00:00:00-05:00</th>\n",
       "      <td>20.35</td>\n",
       "      <td>20.82</td>\n",
       "      <td>20.26</td>\n",
       "      <td>20.560</td>\n",
       "      <td>2279987</td>\n",
       "    </tr>\n",
       "    <tr>\n",
       "      <th>2021-01-08 00:00:00-05:00</th>\n",
       "      <td>20.70</td>\n",
       "      <td>21.05</td>\n",
       "      <td>20.37</td>\n",
       "      <td>20.675</td>\n",
       "      <td>1521367</td>\n",
       "    </tr>\n",
       "  </tbody>\n",
       "</table>\n",
       "</div>"
      ],
      "text/plain": [
       "                            BLMN                               \n",
       "                            open   high    low   close   volume\n",
       "time                                                           \n",
       "2021-01-04 00:00:00-05:00  19.43  19.46  17.95  18.340  3106530\n",
       "2021-01-05 00:00:00-05:00  18.36  19.27  18.35  19.050  2007548\n",
       "2021-01-06 00:00:00-05:00  19.09  20.47  19.09  20.310  3209117\n",
       "2021-01-07 00:00:00-05:00  20.35  20.82  20.26  20.560  2279987\n",
       "2021-01-08 00:00:00-05:00  20.70  21.05  20.37  20.675  1521367"
      ]
     },
     "metadata": {},
     "output_type": "display_data"
    },
    {
     "data": {
      "text/html": [
       "<div>\n",
       "<style scoped>\n",
       "    .dataframe tbody tr th:only-of-type {\n",
       "        vertical-align: middle;\n",
       "    }\n",
       "\n",
       "    .dataframe tbody tr th {\n",
       "        vertical-align: top;\n",
       "    }\n",
       "\n",
       "    .dataframe thead tr th {\n",
       "        text-align: left;\n",
       "    }\n",
       "\n",
       "    .dataframe thead tr:last-of-type th {\n",
       "        text-align: right;\n",
       "    }\n",
       "</style>\n",
       "<table border=\"1\" class=\"dataframe\">\n",
       "  <thead>\n",
       "    <tr>\n",
       "      <th></th>\n",
       "      <th colspan=\"5\" halign=\"left\">BLMN</th>\n",
       "    </tr>\n",
       "    <tr>\n",
       "      <th></th>\n",
       "      <th>open</th>\n",
       "      <th>high</th>\n",
       "      <th>low</th>\n",
       "      <th>close</th>\n",
       "      <th>volume</th>\n",
       "    </tr>\n",
       "    <tr>\n",
       "      <th>time</th>\n",
       "      <th></th>\n",
       "      <th></th>\n",
       "      <th></th>\n",
       "      <th></th>\n",
       "      <th></th>\n",
       "    </tr>\n",
       "  </thead>\n",
       "  <tbody>\n",
       "    <tr>\n",
       "      <th>2021-02-22 00:00:00-05:00</th>\n",
       "      <td>24.68</td>\n",
       "      <td>26.74</td>\n",
       "      <td>24.6700</td>\n",
       "      <td>26.00</td>\n",
       "      <td>3862048</td>\n",
       "    </tr>\n",
       "    <tr>\n",
       "      <th>2021-02-23 00:00:00-05:00</th>\n",
       "      <td>25.86</td>\n",
       "      <td>26.44</td>\n",
       "      <td>25.0500</td>\n",
       "      <td>25.55</td>\n",
       "      <td>2520432</td>\n",
       "    </tr>\n",
       "    <tr>\n",
       "      <th>2021-02-24 00:00:00-05:00</th>\n",
       "      <td>25.49</td>\n",
       "      <td>26.65</td>\n",
       "      <td>25.4900</td>\n",
       "      <td>26.51</td>\n",
       "      <td>2111327</td>\n",
       "    </tr>\n",
       "    <tr>\n",
       "      <th>2021-02-25 00:00:00-05:00</th>\n",
       "      <td>26.52</td>\n",
       "      <td>26.66</td>\n",
       "      <td>24.3066</td>\n",
       "      <td>25.04</td>\n",
       "      <td>2540295</td>\n",
       "    </tr>\n",
       "    <tr>\n",
       "      <th>2021-02-26 00:00:00-05:00</th>\n",
       "      <td>24.97</td>\n",
       "      <td>25.40</td>\n",
       "      <td>24.2100</td>\n",
       "      <td>24.84</td>\n",
       "      <td>2050721</td>\n",
       "    </tr>\n",
       "  </tbody>\n",
       "</table>\n",
       "</div>"
      ],
      "text/plain": [
       "                            BLMN                                \n",
       "                            open   high      low  close   volume\n",
       "time                                                            \n",
       "2021-02-22 00:00:00-05:00  24.68  26.74  24.6700  26.00  3862048\n",
       "2021-02-23 00:00:00-05:00  25.86  26.44  25.0500  25.55  2520432\n",
       "2021-02-24 00:00:00-05:00  25.49  26.65  25.4900  26.51  2111327\n",
       "2021-02-25 00:00:00-05:00  26.52  26.66  24.3066  25.04  2540295\n",
       "2021-02-26 00:00:00-05:00  24.97  25.40  24.2100  24.84  2050721"
      ]
     },
     "metadata": {},
     "output_type": "display_data"
    }
   ],
   "source": [
    "# Use the Alpaca get_barset function to get current closing prices the bond portfolio\n",
    "\n",
    "\n",
    "blmn_prices = alpaca.get_barset(\n",
    "    ticker,\n",
    "    timeframe,\n",
    "    start=start_date,\n",
    "    end=end_date,\n",
    "    limit=1000\n",
    ").df\n",
    "\n",
    "\n",
    "# Review the bond tickers Alpaca DataFrame\n",
    "\n",
    "display(blmn_prices.head())\n",
    "display(blmn_prices.tail())\n"
   ]
  },
  {
   "cell_type": "markdown",
   "metadata": {},
   "source": [
    "Close prices"
   ]
  },
  {
   "cell_type": "code",
   "execution_count": 7,
   "metadata": {},
   "outputs": [
    {
     "data": {
      "text/html": [
       "<div>\n",
       "<style scoped>\n",
       "    .dataframe tbody tr th:only-of-type {\n",
       "        vertical-align: middle;\n",
       "    }\n",
       "\n",
       "    .dataframe tbody tr th {\n",
       "        vertical-align: top;\n",
       "    }\n",
       "\n",
       "    .dataframe thead th {\n",
       "        text-align: right;\n",
       "    }\n",
       "</style>\n",
       "<table border=\"1\" class=\"dataframe\">\n",
       "  <thead>\n",
       "    <tr style=\"text-align: right;\">\n",
       "      <th></th>\n",
       "      <th>BLMN</th>\n",
       "    </tr>\n",
       "    <tr>\n",
       "      <th>time</th>\n",
       "      <th></th>\n",
       "    </tr>\n",
       "  </thead>\n",
       "  <tbody>\n",
       "    <tr>\n",
       "      <th>2021-01-04 00:00:00-05:00</th>\n",
       "      <td>18.340</td>\n",
       "    </tr>\n",
       "    <tr>\n",
       "      <th>2021-01-05 00:00:00-05:00</th>\n",
       "      <td>19.050</td>\n",
       "    </tr>\n",
       "    <tr>\n",
       "      <th>2021-01-06 00:00:00-05:00</th>\n",
       "      <td>20.310</td>\n",
       "    </tr>\n",
       "    <tr>\n",
       "      <th>2021-01-07 00:00:00-05:00</th>\n",
       "      <td>20.560</td>\n",
       "    </tr>\n",
       "    <tr>\n",
       "      <th>2021-01-08 00:00:00-05:00</th>\n",
       "      <td>20.675</td>\n",
       "    </tr>\n",
       "  </tbody>\n",
       "</table>\n",
       "</div>"
      ],
      "text/plain": [
       "                             BLMN\n",
       "time                             \n",
       "2021-01-04 00:00:00-05:00  18.340\n",
       "2021-01-05 00:00:00-05:00  19.050\n",
       "2021-01-06 00:00:00-05:00  20.310\n",
       "2021-01-07 00:00:00-05:00  20.560\n",
       "2021-01-08 00:00:00-05:00  20.675"
      ]
     },
     "execution_count": 7,
     "metadata": {},
     "output_type": "execute_result"
    }
   ],
   "source": [
    "# Create df with only the daily close prices\n",
    "\n",
    "blmn_close_prices = blmn_prices.xs(\"close\", level=1, axis=\"columns\")\n",
    "\n",
    "blmn_close_prices.head()\n"
   ]
  }
 ],
 "metadata": {
  "interpreter": {
   "hash": "94f5251e701b57bc4b73cb646e598269233ff9addb0c9b7607e15955ec6c5d3b"
  },
  "kernelspec": {
   "display_name": "Python 3.7.10 64-bit ('pyviz': conda)",
   "language": "python",
   "name": "python3"
  },
  "language_info": {
   "codemirror_mode": {
    "name": "ipython",
    "version": 3
   },
   "file_extension": ".py",
   "mimetype": "text/x-python",
   "name": "python",
   "nbconvert_exporter": "python",
   "pygments_lexer": "ipython3",
   "version": "3.7.10"
  },
  "orig_nbformat": 4
 },
 "nbformat": 4,
 "nbformat_minor": 2
}
