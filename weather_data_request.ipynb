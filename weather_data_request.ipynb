{
 "cells": [
  {
   "cell_type": "code",
   "execution_count": 2,
   "id": "59b52bc0-3892-4902-8da6-c073a81c142f",
   "metadata": {},
   "outputs": [],
   "source": [
    "import os\n",
    "import requests\n",
    "import pandas as pd\n",
    "import json\n",
    "import datetime\n",
    "from dotenv import load_dotenv\n",
    "from pathlib import Path"
   ]
  },
  {
   "cell_type": "code",
   "execution_count": 3,
   "id": "ace713a1-ba6d-4a5e-a42f-64c049cb4dc5",
   "metadata": {},
   "outputs": [
    {
     "data": {
      "text/plain": [
       "True"
      ]
     },
     "execution_count": 3,
     "metadata": {},
     "output_type": "execute_result"
    }
   ],
   "source": [
    "# Loading env to access API Key\n",
    "load_dotenv()"
   ]
  },
  {
   "cell_type": "code",
   "execution_count": 4,
   "id": "a219b76c-ed8a-43ea-9492-056f75aa409d",
   "metadata": {},
   "outputs": [
    {
     "data": {
      "text/plain": [
       "str"
      ]
     },
     "metadata": {},
     "output_type": "display_data"
    }
   ],
   "source": [
    "# Connecting API key in .env to weather_api_key function\n",
    "weather_api_key = os.getenv(\"WEATHER_API_KEY\")\n",
    "display(type(weather_api_key))"
   ]
  },
  {
   "cell_type": "code",
   "execution_count": 5,
   "id": "4c83ba83-e833-4d1e-9aba-6260b0024af2",
   "metadata": {},
   "outputs": [],
   "source": [
    "#Setting Request URL and creating list for responses from API\n",
    "request_url = \"https://api.weatherstack.com/historical\"\n",
    "responses = list()"
   ]
  },
  {
   "cell_type": "code",
   "execution_count": 6,
   "id": "aa8099da-963d-4f91-a581-a064102f7587",
   "metadata": {},
   "outputs": [
    {
     "data": {
      "text/plain": [
       "817"
      ]
     },
     "execution_count": 6,
     "metadata": {},
     "output_type": "execute_result"
    }
   ],
   "source": [
    "#Import locations from blmn_locs.csv\n",
    "blmn_locs = pd.read_csv(\n",
    "    Path('data/blmn_locs.csv')\n",
    ")\n",
    "blmn_locs_unique = blmn_locs['zip_code'].unique()\n",
    "len(blmn_locs_unique)"
   ]
  },
  {
   "cell_type": "code",
   "execution_count": 7,
   "id": "d124fc32-7121-4e3e-9fe9-69ced30f8c99",
   "metadata": {},
   "outputs": [
    {
     "data": {
      "text/plain": [
       "817"
      ]
     },
     "metadata": {},
     "output_type": "display_data"
    }
   ],
   "source": [
    "zip_codes = blmn_locs_unique[0:817]\n",
    "display(len(zip_codes))\n"
   ]
  },
  {
   "cell_type": "code",
   "execution_count": 8,
   "id": "a3a322c4-3c75-4a65-8808-9ae6706065c1",
   "metadata": {},
   "outputs": [],
   "source": [
    "dates = list()\n",
    "start_date = datetime.date(2021, 2, 20)\n",
    "numdays = 9\n",
    "for x in range (0, numdays):\n",
    "    dates.append((start_date + datetime.timedelta(days = x)).strftime(\"%Y-%m-%d\"))\n"
   ]
  },
  {
   "cell_type": "code",
   "execution_count": 135,
   "id": "e6bb1e42-e931-4458-b863-44a94428173c",
   "metadata": {},
   "outputs": [],
   "source": [
    "\n",
    "for date in dates:\n",
    "    for zip_code in zip_codes:\n",
    "        params = dict(\n",
    "        access_key=weather_api_key,\n",
    "        query= zip_code,\n",
    "        historical_date = date,\n",
    "        hourly=1, \n",
    "        interval=24)\n",
    "    \n",
    "    \n",
    "        rr= requests.get(request_url, params=params)\n",
    "        data = json.loads(rr.text)\n",
    "        responses.append(data)"
   ]
  },
  {
   "cell_type": "code",
   "execution_count": null,
   "id": "46b9dc14-fcd5-4b43-8123-b7272eaa9f68",
   "metadata": {},
   "outputs": [],
   "source": [
    "with open('weather3.json', 'w') as json_file:\n",
    "    json.dump(responses, json_file)"
   ]
  },
  {
   "cell_type": "code",
   "execution_count": null,
   "id": "a2723695-1dca-4bfb-a3d4-7e3891be1cec",
   "metadata": {},
   "outputs": [],
   "source": []
  }
 ],
 "metadata": {
  "kernelspec": {
   "display_name": "dev",
   "language": "python",
   "name": "dev"
  },
  "language_info": {
   "codemirror_mode": {
    "name": "ipython",
    "version": 3
   },
   "file_extension": ".py",
   "mimetype": "text/x-python",
   "name": "python",
   "nbconvert_exporter": "python",
   "pygments_lexer": "ipython3",
   "version": "3.7.11"
  }
 },
 "nbformat": 4,
 "nbformat_minor": 5
}
