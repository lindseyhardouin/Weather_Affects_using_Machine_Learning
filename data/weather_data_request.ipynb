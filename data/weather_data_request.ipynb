{
 "cells": [
  {
   "cell_type": "code",
   "execution_count": 1,
   "id": "59b52bc0-3892-4902-8da6-c073a81c142f",
   "metadata": {},
   "outputs": [],
   "source": [
    "import os\n",
    "import requests\n",
    "import pandas as pd\n",
    "import json\n",
    "import datetime\n",
    "from dotenv import load_dotenv\n",
    "from pathlib import Path"
   ]
  },
  {
   "cell_type": "code",
   "execution_count": 2,
   "id": "ace713a1-ba6d-4a5e-a42f-64c049cb4dc5",
   "metadata": {},
   "outputs": [
    {
     "data": {
      "text/plain": [
       "True"
      ]
     },
     "execution_count": 2,
     "metadata": {},
     "output_type": "execute_result"
    }
   ],
   "source": [
    "# Loading env to access API Key\n",
    "load_dotenv()"
   ]
  },
  {
   "cell_type": "code",
   "execution_count": 3,
   "id": "a219b76c-ed8a-43ea-9492-056f75aa409d",
   "metadata": {},
   "outputs": [
    {
     "data": {
      "text/plain": [
       "str"
      ]
     },
     "metadata": {},
     "output_type": "display_data"
    }
   ],
   "source": [
    "# Connecting API key in .env to weather_api_key function\n",
    "weather_api_key = os.getenv(\"WEATHER_API_KEY\")\n",
    "display(type(weather_api_key))"
   ]
  },
  {
   "cell_type": "code",
   "execution_count": 4,
   "id": "4c83ba83-e833-4d1e-9aba-6260b0024af2",
   "metadata": {},
   "outputs": [],
   "source": [
    "#Setting Request URL and creating list for responses from API\n",
    "request_url = \"https://api.weatherstack.com/historical\"\n",
    "responses = list()"
   ]
  },
  {
   "cell_type": "code",
   "execution_count": 5,
   "id": "aa8099da-963d-4f91-a581-a064102f7587",
   "metadata": {},
   "outputs": [
    {
     "data": {
      "text/plain": [
       "202"
      ]
     },
     "execution_count": 5,
     "metadata": {},
     "output_type": "execute_result"
    }
   ],
   "source": [
    "#Import locations from blmn_locs.csv\n",
    "blmn_locs = pd.read_csv(\n",
    "    Path('blmn_locs.csv')\n",
    ")\n",
    "\n",
    "blmn_selection = blmn_locs[blmn_locs['State'].isin([' FL', ' GA', ' AZ', ' NV', ' SC', 'FL', 'GA', 'AZ', 'NV', 'SC']) ]\n",
    "\n",
    "blmn_selection_unique = blmn_selection['Zip Code'].unique()\n",
    "len(blmn_selection_unique)"
   ]
  },
  {
   "cell_type": "code",
   "execution_count": 6,
   "id": "d124fc32-7121-4e3e-9fe9-69ced30f8c99",
   "metadata": {},
   "outputs": [
    {
     "data": {
      "text/plain": [
       "array([33511, 33765, 33607, 33559, 33180, 33770, 33434, 34134, 33426,\n",
       "       34210, 34613, 33991, 33761, 33071, 32114, 32541, 33308, 33912,\n",
       "       32608, 32223, 32250, 34741, 34747, 33467, 33813, 32750, 32952,\n",
       "       33186, 33184, 34102, 34474, 32828, 32812, 32821, 33418, 32504,\n",
       "       33322, 34231, 34201, 33710, 34994, 32309, 33618, 33609, 32162,\n",
       "       34655, 34293, 32960, 32940, 33331, 34787, 33703, 30005, 30339,\n",
       "       30909, 30519, 31909, 31210, 31405, 30078, 89119, 89117, 29575,\n",
       "       29418, 29582, 29572, 29607, 29212, 29206, 85226, 86004, 85295,\n",
       "       85308, 85374, 85282, 32714, 34135, 33909, 34711, 33004, 33442,\n",
       "       33444, 33316, 33012, 33033, 34453, 33040, 33463, 33771, 34788,\n",
       "       33064, 33547, 33016, 34103, 33160, 32073, 32176, 32765, 33410,\n",
       "       32137, 34684, 32405, 33026, 33563, 33948, 34986, 33411, 32771,\n",
       "       33870, 33772, 34113, 34606, 32086, 33704, 33323, 32308, 33617,\n",
       "       32159, 32966, 33544, 33880, 32792, 32708, 31707, 30022, 30606,\n",
       "       30329, 30114, 30529, 30012, 30041, 30720, 30135, 30501, 30144,\n",
       "       30269, 30161, 30075, 31419, 30281, 30024, 31601, 31093, 89014,\n",
       "       89029, 89032, 89502, 89434, 29803, 29621, 29902, 29910, 29407,\n",
       "       29642, 29501, 29341, 29615, 29649, 29464, 29576, 29406, 29732,\n",
       "       29301, 29150, 85323, 85296, 85208, 85737, 85225, 33433, 34205,\n",
       "       33626, 33759, 33065, 33483, 33558, 32953, 33172, 33018, 33408,\n",
       "       32905, 32164, 32407, 32502, 33062, 34668, 32550, 30097, 30260,\n",
       "       89052, 29577, 85255, 85345, 85250, 85718, 33134, 34108, 32819,\n",
       "       32789, 34239, 30346, 33131], dtype=int64)"
      ]
     },
     "execution_count": 6,
     "metadata": {},
     "output_type": "execute_result"
    }
   ],
   "source": [
    "zip_codes = blmn_selection_unique[0:202]\n",
    "zip_codes\n"
   ]
  },
  {
   "cell_type": "code",
   "execution_count": 7,
   "id": "a3a322c4-3c75-4a65-8808-9ae6706065c1",
   "metadata": {},
   "outputs": [],
   "source": [
    "dates = list()\n",
    "start_date = datetime.date(2021, 12, 22)\n",
    "numdays = 10\n",
    "for x in range (0, numdays):\n",
    "    dates.append((start_date + datetime.timedelta(days = x)).strftime(\"%Y-%m-%d\"))\n"
   ]
  },
  {
   "cell_type": "code",
   "execution_count": 8,
   "id": "e6bb1e42-e931-4458-b863-44a94428173c",
   "metadata": {},
   "outputs": [],
   "source": [
    "\n",
    "for date in dates:\n",
    "    for zip_code in zip_codes:\n",
    "        params = dict(\n",
    "        access_key=weather_api_key,\n",
    "        query= zip_code,\n",
    "        historical_date= date,\n",
    "        hourly=1, \n",
    "        interval=24)\n",
    "    \n",
    "    \n",
    "        rr= requests.get(request_url, params=params)\n",
    "        data = json.loads(rr.text)\n",
    "        responses.append(data)"
   ]
  },
  {
   "cell_type": "code",
   "execution_count": null,
   "id": "a2723695-1dca-4bfb-a3d4-7e3891be1cec",
   "metadata": {},
   "outputs": [],
   "source": [
    "#df = pd.json_normalize(responses)\n",
    "#df"
   ]
  },
  {
   "cell_type": "code",
   "execution_count": 9,
   "id": "46b9dc14-fcd5-4b43-8123-b7272eaa9f68",
   "metadata": {},
   "outputs": [],
   "source": [
    "with open('weather20.json', 'w') as json_file:\n",
    "    json.dump(responses, json_file)"
   ]
  },
  {
   "cell_type": "code",
   "execution_count": null,
   "id": "a3eb6213-355d-4fcb-880e-355a4b7420f7",
   "metadata": {},
   "outputs": [],
   "source": []
  }
 ],
 "metadata": {
  "kernelspec": {
   "display_name": "dev",
   "language": "python",
   "name": "dev"
  },
  "language_info": {
   "codemirror_mode": {
    "name": "ipython",
    "version": 3
   },
   "file_extension": ".py",
   "mimetype": "text/x-python",
   "name": "python",
   "nbconvert_exporter": "python",
   "pygments_lexer": "ipython3",
   "version": "3.7.11"
  }
 },
 "nbformat": 4,
 "nbformat_minor": 5
}
