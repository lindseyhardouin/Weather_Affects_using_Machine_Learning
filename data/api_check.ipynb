{
 "cells": [
  {
   "cell_type": "code",
   "execution_count": 1,
   "id": "736498e8-e243-404a-b1af-969d71f54efe",
   "metadata": {},
   "outputs": [],
   "source": [
    "import os\n",
    "import requests\n",
    "import pandas as pd\n",
    "import json\n",
    "import datetime\n",
    "from dotenv import load_dotenv\n",
    "from pathlib import Path"
   ]
  },
  {
   "cell_type": "code",
   "execution_count": 18,
   "id": "b22748bb-2c0f-4515-af37-bb1db74473a4",
   "metadata": {},
   "outputs": [
    {
     "data": {
      "text/plain": [
       "str"
      ]
     },
     "metadata": {},
     "output_type": "display_data"
    }
   ],
   "source": [
    "weather_data = pd.read_csv(\n",
    "    Path('cleaned_data/df_weather_data_01122022.csv')\n",
    ")\n",
    "\n",
    "blmn_locs = pd.read_csv(\n",
    "    Path('blmn_locs.csv')\n",
    ")\n",
    "\n",
    "load_dotenv()\n",
    "\n",
    "# Connecting API key in .env to weather_api_key function\n",
    "weather_api_key = os.getenv(\"WEATHER_API_KEY\")\n",
    "display(type(weather_api_key))\n",
    "\n",
    "#Setting Request URL and creating list for responses from API\n",
    "request_url = \"https://api.weatherstack.com/historical\""
   ]
  },
  {
   "cell_type": "code",
   "execution_count": 19,
   "id": "29ca66b3-6200-4338-af93-c99c389acc00",
   "metadata": {},
   "outputs": [
    {
     "name": "stderr",
     "output_type": "stream",
     "text": [
      "C:\\Users\\carra\\anaconda3\\envs\\dev\\lib\\site-packages\\ipykernel_launcher.py:2: SettingWithCopyWarning: \n",
      "A value is trying to be set on a copy of a slice from a DataFrame.\n",
      "Try using .loc[row_indexer,col_indexer] = value instead\n",
      "\n",
      "See the caveats in the documentation: https://pandas.pydata.org/pandas-docs/stable/user_guide/indexing.html#returning-a-view-versus-a-copy\n",
      "  \n",
      "C:\\Users\\carra\\anaconda3\\envs\\dev\\lib\\site-packages\\ipykernel_launcher.py:3: SettingWithCopyWarning: \n",
      "A value is trying to be set on a copy of a slice from a DataFrame.\n",
      "Try using .loc[row_indexer,col_indexer] = value instead\n",
      "\n",
      "See the caveats in the documentation: https://pandas.pydata.org/pandas-docs/stable/user_guide/indexing.html#returning-a-view-versus-a-copy\n",
      "  This is separate from the ipykernel package so we can avoid doing imports until\n"
     ]
    }
   ],
   "source": [
    "check_df = weather_data[['request.query', 'date']]\n",
    "check_df['request.query']= check_df['request.query'].apply(str)\n",
    "check_df['key'] = check_df['request.query'] + check_df['date']\n",
    "check_list = check_df['key'].to_list()\n"
   ]
  },
  {
   "cell_type": "code",
   "execution_count": 20,
   "id": "33f07904-bce4-4bc2-8af3-a992e04ec0f1",
   "metadata": {},
   "outputs": [],
   "source": [
    "dates = list()\n",
    "start_date = datetime.date(2021, 3, 1)\n",
    "numdays = 306\n",
    "for x in range (0, numdays):\n",
    "    dates.append((start_date + datetime.timedelta(days = x)).strftime(\"%Y-%m-%d\"))\n"
   ]
  },
  {
   "cell_type": "code",
   "execution_count": 22,
   "id": "153d0b79-351e-4625-bdc7-f925fb5e5f6a",
   "metadata": {},
   "outputs": [
    {
     "data": {
      "text/plain": [
       "202"
      ]
     },
     "execution_count": 22,
     "metadata": {},
     "output_type": "execute_result"
    }
   ],
   "source": [
    "blmn_selection = blmn_locs[blmn_locs['State'].isin([' FL', ' GA', ' AZ', ' NV', ' SC', 'FL', 'GA', 'AZ', 'NV', 'SC']) ]\n",
    "\n",
    "blmn_selection_unique = blmn_selection['Zip Code'].unique()\n",
    "\n",
    "zip_codes = blmn_selection_unique\n",
    "zip_codes = [str(int) for int in zip_codes]\n",
    "len(zip_codes)\n"
   ]
  },
  {
   "cell_type": "code",
   "execution_count": 23,
   "id": "260d1fe9-9b0b-4539-bb91-599247c9bb2e",
   "metadata": {},
   "outputs": [],
   "source": [
    "check_key = []\n",
    "\n",
    "for zip in zip_codes:\n",
    "    for date in dates:\n",
    "        x = zip + date\n",
    "        check_key.append(x)\n",
    "\n",
    "    "
   ]
  },
  {
   "cell_type": "code",
   "execution_count": 24,
   "id": "53f6cf69-a314-4982-b860-17e55d5872f0",
   "metadata": {},
   "outputs": [
    {
     "data": {
      "text/plain": [
       "61812"
      ]
     },
     "execution_count": 24,
     "metadata": {},
     "output_type": "execute_result"
    }
   ],
   "source": [
    "len(check_key)"
   ]
  },
  {
   "cell_type": "code",
   "execution_count": 25,
   "id": "e0558108-2bfe-41f0-a156-63ebd4c36a0a",
   "metadata": {},
   "outputs": [],
   "source": [
    "def non_match_elements(check_key, check_list):\n",
    "    non_match = []\n",
    "    for i in check_key:\n",
    "        if i not in check_list:\n",
    "            non_match.append(i)\n",
    "    return non_match"
   ]
  },
  {
   "cell_type": "code",
   "execution_count": 26,
   "id": "0c128cd8-9d85-4dd5-b058-0dd52f4c5f37",
   "metadata": {},
   "outputs": [
    {
     "data": {
      "text/plain": [
       "2022"
      ]
     },
     "execution_count": 26,
     "metadata": {},
     "output_type": "execute_result"
    }
   ],
   "source": [
    "non_match = non_match_elements(check_key, check_list)\n",
    "len(non_match)"
   ]
  },
  {
   "cell_type": "code",
   "execution_count": 27,
   "id": "a08f1152-b9a2-4fa8-bfaa-5d0a4fd53989",
   "metadata": {},
   "outputs": [
    {
     "data": {
      "text/plain": [
       "59790"
      ]
     },
     "execution_count": 27,
     "metadata": {},
     "output_type": "execute_result"
    }
   ],
   "source": [
    "unique_key = check_df['key'].unique()\n",
    "len(unique_key)"
   ]
  },
  {
   "cell_type": "code",
   "execution_count": 28,
   "id": "758135f3-8886-48fd-8d3d-a722af0d7a2c",
   "metadata": {},
   "outputs": [
    {
     "data": {
      "text/plain": [
       "15"
      ]
     },
     "execution_count": 28,
     "metadata": {},
     "output_type": "execute_result"
    }
   ],
   "source": [
    "to_add_date = []\n",
    "to_add_zip = []\n",
    "len(non_match[0])"
   ]
  },
  {
   "cell_type": "code",
   "execution_count": 29,
   "id": "5e06f798-d077-4ab1-8264-2cdd85f312be",
   "metadata": {},
   "outputs": [],
   "source": [
    "for i in non_match:\n",
    "    x = i[-10:]\n",
    "    to_add_date.append(x)"
   ]
  },
  {
   "cell_type": "code",
   "execution_count": 30,
   "id": "95dd5e2f-ffb7-4f92-bf12-81294af78e16",
   "metadata": {},
   "outputs": [],
   "source": [
    "for i in non_match:\n",
    "    x = len(i) - 10\n",
    "    y = i[:x]\n",
    "    to_add_zip.append(y)\n",
    "    \n"
   ]
  },
  {
   "cell_type": "code",
   "execution_count": 31,
   "id": "8a6537ac-3d77-46e5-b3c2-83fd604db8f8",
   "metadata": {},
   "outputs": [],
   "source": [
    "responses = []\n"
   ]
  },
  {
   "cell_type": "code",
   "execution_count": 32,
   "id": "b633dc60-6a61-490e-93c1-7a5225f23700",
   "metadata": {},
   "outputs": [],
   "source": [
    "\n",
    "for i in non_match:\n",
    "    x = len(i) - 10\n",
    "    date_api = i[-10:]\n",
    "    zip_api = i[:x]\n",
    "    \n",
    "    params = dict(\n",
    "    access_key=weather_api_key,\n",
    "    query= zip_api,\n",
    "    historical_date = date_api,\n",
    "    hourly=1, \n",
    "    interval=24)\n",
    "    \n",
    "    \n",
    "    rr= requests.get(request_url, params=params)\n",
    "    data = json.loads(rr.text)\n",
    "    responses.append(data)"
   ]
  },
  {
   "cell_type": "code",
   "execution_count": 33,
   "id": "dd5681ac-b3bc-420b-aaf6-9de2411330dc",
   "metadata": {},
   "outputs": [],
   "source": [
    "with open('api_responses/weather_data_missing_1122022.json', 'w') as json_file:\n",
    "    json.dump(responses, json_file)"
   ]
  },
  {
   "cell_type": "code",
   "execution_count": 43,
   "id": "ecc90a56-1750-4215-93ae-cbec02f9ca8c",
   "metadata": {},
   "outputs": [],
   "source": [
    "df_weather_data = pd.read_csv(\n",
    "    Path('cleaned_data/df_weather_data_updated.csv')\n",
    ")\n",
    "df_weather_data_add = pd.read_csv(\n",
    "    Path('cleaned_data/df_weather_data_01122022.csv')\n",
    ")\n",
    "    "
   ]
  },
  {
   "cell_type": "code",
   "execution_count": 44,
   "id": "391c3ad3-e6d5-46de-823a-6201b572ddde",
   "metadata": {},
   "outputs": [
    {
     "data": {
      "text/html": [
       "<div>\n",
       "<style scoped>\n",
       "    .dataframe tbody tr th:only-of-type {\n",
       "        vertical-align: middle;\n",
       "    }\n",
       "\n",
       "    .dataframe tbody tr th {\n",
       "        vertical-align: top;\n",
       "    }\n",
       "\n",
       "    .dataframe thead th {\n",
       "        text-align: right;\n",
       "    }\n",
       "</style>\n",
       "<table border=\"1\" class=\"dataframe\">\n",
       "  <thead>\n",
       "    <tr style=\"text-align: right;\">\n",
       "      <th></th>\n",
       "      <th>Unnamed: 0</th>\n",
       "      <th>request.type</th>\n",
       "      <th>request.query</th>\n",
       "      <th>request.language</th>\n",
       "      <th>request.unit</th>\n",
       "      <th>location.name</th>\n",
       "      <th>location.country</th>\n",
       "      <th>location.region</th>\n",
       "      <th>location.lat</th>\n",
       "      <th>location.lon</th>\n",
       "      <th>...</th>\n",
       "      <th>dewpoint</th>\n",
       "      <th>windchill</th>\n",
       "      <th>windgust</th>\n",
       "      <th>feelslike</th>\n",
       "      <th>date</th>\n",
       "      <th>mintemp</th>\n",
       "      <th>maxtemp</th>\n",
       "      <th>avgtemp</th>\n",
       "      <th>totalsnow</th>\n",
       "      <th>sunhour</th>\n",
       "    </tr>\n",
       "  </thead>\n",
       "  <tbody>\n",
       "    <tr>\n",
       "      <th>60391</th>\n",
       "      <td>60391</td>\n",
       "      <td>Zipcode</td>\n",
       "      <td>32819</td>\n",
       "      <td>en</td>\n",
       "      <td>m</td>\n",
       "      <td>Orlando</td>\n",
       "      <td>USA</td>\n",
       "      <td>Florida</td>\n",
       "      <td>28.460</td>\n",
       "      <td>-81.476</td>\n",
       "      <td>...</td>\n",
       "      <td>15</td>\n",
       "      <td>23</td>\n",
       "      <td>21</td>\n",
       "      <td>24</td>\n",
       "      <td>2021-03-16</td>\n",
       "      <td>19</td>\n",
       "      <td>29</td>\n",
       "      <td>24</td>\n",
       "      <td>0.0</td>\n",
       "      <td>11.6</td>\n",
       "    </tr>\n",
       "    <tr>\n",
       "      <th>60392</th>\n",
       "      <td>60392</td>\n",
       "      <td>Zipcode</td>\n",
       "      <td>32789</td>\n",
       "      <td>en</td>\n",
       "      <td>m</td>\n",
       "      <td>Winter Park</td>\n",
       "      <td>USA</td>\n",
       "      <td>Florida</td>\n",
       "      <td>28.600</td>\n",
       "      <td>-81.357</td>\n",
       "      <td>...</td>\n",
       "      <td>16</td>\n",
       "      <td>24</td>\n",
       "      <td>19</td>\n",
       "      <td>24</td>\n",
       "      <td>2021-03-16</td>\n",
       "      <td>19</td>\n",
       "      <td>29</td>\n",
       "      <td>25</td>\n",
       "      <td>0.0</td>\n",
       "      <td>11.6</td>\n",
       "    </tr>\n",
       "    <tr>\n",
       "      <th>60393</th>\n",
       "      <td>60393</td>\n",
       "      <td>Zipcode</td>\n",
       "      <td>34239</td>\n",
       "      <td>en</td>\n",
       "      <td>m</td>\n",
       "      <td>Sarasota</td>\n",
       "      <td>USA</td>\n",
       "      <td>Florida</td>\n",
       "      <td>27.310</td>\n",
       "      <td>-82.518</td>\n",
       "      <td>...</td>\n",
       "      <td>18</td>\n",
       "      <td>22</td>\n",
       "      <td>26</td>\n",
       "      <td>23</td>\n",
       "      <td>2021-03-16</td>\n",
       "      <td>19</td>\n",
       "      <td>24</td>\n",
       "      <td>22</td>\n",
       "      <td>0.0</td>\n",
       "      <td>11.6</td>\n",
       "    </tr>\n",
       "    <tr>\n",
       "      <th>60394</th>\n",
       "      <td>60394</td>\n",
       "      <td>Zipcode</td>\n",
       "      <td>30346</td>\n",
       "      <td>en</td>\n",
       "      <td>m</td>\n",
       "      <td>Atlanta</td>\n",
       "      <td>USA</td>\n",
       "      <td>Georgia</td>\n",
       "      <td>33.928</td>\n",
       "      <td>-84.344</td>\n",
       "      <td>...</td>\n",
       "      <td>12</td>\n",
       "      <td>14</td>\n",
       "      <td>14</td>\n",
       "      <td>14</td>\n",
       "      <td>2021-03-16</td>\n",
       "      <td>11</td>\n",
       "      <td>18</td>\n",
       "      <td>16</td>\n",
       "      <td>0.0</td>\n",
       "      <td>6.0</td>\n",
       "    </tr>\n",
       "    <tr>\n",
       "      <th>60395</th>\n",
       "      <td>60395</td>\n",
       "      <td>Zipcode</td>\n",
       "      <td>33131</td>\n",
       "      <td>en</td>\n",
       "      <td>m</td>\n",
       "      <td>Miami</td>\n",
       "      <td>USA</td>\n",
       "      <td>Florida</td>\n",
       "      <td>25.767</td>\n",
       "      <td>-80.191</td>\n",
       "      <td>...</td>\n",
       "      <td>18</td>\n",
       "      <td>23</td>\n",
       "      <td>33</td>\n",
       "      <td>25</td>\n",
       "      <td>2021-03-16</td>\n",
       "      <td>22</td>\n",
       "      <td>24</td>\n",
       "      <td>23</td>\n",
       "      <td>0.0</td>\n",
       "      <td>11.6</td>\n",
       "    </tr>\n",
       "  </tbody>\n",
       "</table>\n",
       "<p>5 rows × 29 columns</p>\n",
       "</div>"
      ],
      "text/plain": [
       "       Unnamed: 0 request.type  request.query request.language request.unit  \\\n",
       "60391       60391      Zipcode          32819               en            m   \n",
       "60392       60392      Zipcode          32789               en            m   \n",
       "60393       60393      Zipcode          34239               en            m   \n",
       "60394       60394      Zipcode          30346               en            m   \n",
       "60395       60395      Zipcode          33131               en            m   \n",
       "\n",
       "      location.name location.country location.region  location.lat  \\\n",
       "60391       Orlando              USA         Florida        28.460   \n",
       "60392   Winter Park              USA         Florida        28.600   \n",
       "60393      Sarasota              USA         Florida        27.310   \n",
       "60394       Atlanta              USA         Georgia        33.928   \n",
       "60395         Miami              USA         Florida        25.767   \n",
       "\n",
       "       location.lon  ... dewpoint  windchill  windgust  feelslike        date  \\\n",
       "60391       -81.476  ...       15         23        21         24  2021-03-16   \n",
       "60392       -81.357  ...       16         24        19         24  2021-03-16   \n",
       "60393       -82.518  ...       18         22        26         23  2021-03-16   \n",
       "60394       -84.344  ...       12         14        14         14  2021-03-16   \n",
       "60395       -80.191  ...       18         23        33         25  2021-03-16   \n",
       "\n",
       "       mintemp  maxtemp  avgtemp  totalsnow  sunhour  \n",
       "60391       19       29       24        0.0     11.6  \n",
       "60392       19       29       25        0.0     11.6  \n",
       "60393       19       24       22        0.0     11.6  \n",
       "60394       11       18       16        0.0      6.0  \n",
       "60395       22       24       23        0.0     11.6  \n",
       "\n",
       "[5 rows x 29 columns]"
      ]
     },
     "execution_count": 44,
     "metadata": {},
     "output_type": "execute_result"
    }
   ],
   "source": [
    "\n",
    "df_weather_data_add.tail()"
   ]
  },
  {
   "cell_type": "code",
   "execution_count": 45,
   "id": "2a5130f7-3e5f-4237-9242-b5801a6cfffe",
   "metadata": {},
   "outputs": [],
   "source": [
    "df_weather_data = pd.concat([df_weather_data, df_weather_data_add], ignore_index=True, axis=0)"
   ]
  },
  {
   "cell_type": "code",
   "execution_count": 46,
   "id": "149e8199-e49d-4e61-8d90-73c0498e10d4",
   "metadata": {},
   "outputs": [
    {
     "data": {
      "text/html": [
       "<div>\n",
       "<style scoped>\n",
       "    .dataframe tbody tr th:only-of-type {\n",
       "        vertical-align: middle;\n",
       "    }\n",
       "\n",
       "    .dataframe tbody tr th {\n",
       "        vertical-align: top;\n",
       "    }\n",
       "\n",
       "    .dataframe thead th {\n",
       "        text-align: right;\n",
       "    }\n",
       "</style>\n",
       "<table border=\"1\" class=\"dataframe\">\n",
       "  <thead>\n",
       "    <tr style=\"text-align: right;\">\n",
       "      <th></th>\n",
       "      <th>Unnamed: 0</th>\n",
       "      <th>Unnamed: 0.1</th>\n",
       "      <th>request.type</th>\n",
       "      <th>request.query</th>\n",
       "      <th>request.language</th>\n",
       "      <th>request.unit</th>\n",
       "      <th>location.name</th>\n",
       "      <th>location.country</th>\n",
       "      <th>location.region</th>\n",
       "      <th>location.lat</th>\n",
       "      <th>...</th>\n",
       "      <th>dewpoint</th>\n",
       "      <th>windchill</th>\n",
       "      <th>windgust</th>\n",
       "      <th>feelslike</th>\n",
       "      <th>date</th>\n",
       "      <th>mintemp</th>\n",
       "      <th>maxtemp</th>\n",
       "      <th>avgtemp</th>\n",
       "      <th>totalsnow</th>\n",
       "      <th>sunhour</th>\n",
       "    </tr>\n",
       "  </thead>\n",
       "  <tbody>\n",
       "    <tr>\n",
       "      <th>109599</th>\n",
       "      <td>60391</td>\n",
       "      <td>NaN</td>\n",
       "      <td>Zipcode</td>\n",
       "      <td>32819</td>\n",
       "      <td>en</td>\n",
       "      <td>m</td>\n",
       "      <td>Orlando</td>\n",
       "      <td>USA</td>\n",
       "      <td>Florida</td>\n",
       "      <td>28.460</td>\n",
       "      <td>...</td>\n",
       "      <td>15</td>\n",
       "      <td>23</td>\n",
       "      <td>21</td>\n",
       "      <td>24</td>\n",
       "      <td>2021-03-16</td>\n",
       "      <td>19</td>\n",
       "      <td>29</td>\n",
       "      <td>24</td>\n",
       "      <td>0.0</td>\n",
       "      <td>11.6</td>\n",
       "    </tr>\n",
       "    <tr>\n",
       "      <th>109600</th>\n",
       "      <td>60392</td>\n",
       "      <td>NaN</td>\n",
       "      <td>Zipcode</td>\n",
       "      <td>32789</td>\n",
       "      <td>en</td>\n",
       "      <td>m</td>\n",
       "      <td>Winter Park</td>\n",
       "      <td>USA</td>\n",
       "      <td>Florida</td>\n",
       "      <td>28.600</td>\n",
       "      <td>...</td>\n",
       "      <td>16</td>\n",
       "      <td>24</td>\n",
       "      <td>19</td>\n",
       "      <td>24</td>\n",
       "      <td>2021-03-16</td>\n",
       "      <td>19</td>\n",
       "      <td>29</td>\n",
       "      <td>25</td>\n",
       "      <td>0.0</td>\n",
       "      <td>11.6</td>\n",
       "    </tr>\n",
       "    <tr>\n",
       "      <th>109601</th>\n",
       "      <td>60393</td>\n",
       "      <td>NaN</td>\n",
       "      <td>Zipcode</td>\n",
       "      <td>34239</td>\n",
       "      <td>en</td>\n",
       "      <td>m</td>\n",
       "      <td>Sarasota</td>\n",
       "      <td>USA</td>\n",
       "      <td>Florida</td>\n",
       "      <td>27.310</td>\n",
       "      <td>...</td>\n",
       "      <td>18</td>\n",
       "      <td>22</td>\n",
       "      <td>26</td>\n",
       "      <td>23</td>\n",
       "      <td>2021-03-16</td>\n",
       "      <td>19</td>\n",
       "      <td>24</td>\n",
       "      <td>22</td>\n",
       "      <td>0.0</td>\n",
       "      <td>11.6</td>\n",
       "    </tr>\n",
       "    <tr>\n",
       "      <th>109602</th>\n",
       "      <td>60394</td>\n",
       "      <td>NaN</td>\n",
       "      <td>Zipcode</td>\n",
       "      <td>30346</td>\n",
       "      <td>en</td>\n",
       "      <td>m</td>\n",
       "      <td>Atlanta</td>\n",
       "      <td>USA</td>\n",
       "      <td>Georgia</td>\n",
       "      <td>33.928</td>\n",
       "      <td>...</td>\n",
       "      <td>12</td>\n",
       "      <td>14</td>\n",
       "      <td>14</td>\n",
       "      <td>14</td>\n",
       "      <td>2021-03-16</td>\n",
       "      <td>11</td>\n",
       "      <td>18</td>\n",
       "      <td>16</td>\n",
       "      <td>0.0</td>\n",
       "      <td>6.0</td>\n",
       "    </tr>\n",
       "    <tr>\n",
       "      <th>109603</th>\n",
       "      <td>60395</td>\n",
       "      <td>NaN</td>\n",
       "      <td>Zipcode</td>\n",
       "      <td>33131</td>\n",
       "      <td>en</td>\n",
       "      <td>m</td>\n",
       "      <td>Miami</td>\n",
       "      <td>USA</td>\n",
       "      <td>Florida</td>\n",
       "      <td>25.767</td>\n",
       "      <td>...</td>\n",
       "      <td>18</td>\n",
       "      <td>23</td>\n",
       "      <td>33</td>\n",
       "      <td>25</td>\n",
       "      <td>2021-03-16</td>\n",
       "      <td>22</td>\n",
       "      <td>24</td>\n",
       "      <td>23</td>\n",
       "      <td>0.0</td>\n",
       "      <td>11.6</td>\n",
       "    </tr>\n",
       "  </tbody>\n",
       "</table>\n",
       "<p>5 rows × 30 columns</p>\n",
       "</div>"
      ],
      "text/plain": [
       "        Unnamed: 0  Unnamed: 0.1 request.type  request.query request.language  \\\n",
       "109599       60391           NaN      Zipcode          32819               en   \n",
       "109600       60392           NaN      Zipcode          32789               en   \n",
       "109601       60393           NaN      Zipcode          34239               en   \n",
       "109602       60394           NaN      Zipcode          30346               en   \n",
       "109603       60395           NaN      Zipcode          33131               en   \n",
       "\n",
       "       request.unit location.name location.country location.region  \\\n",
       "109599            m       Orlando              USA         Florida   \n",
       "109600            m   Winter Park              USA         Florida   \n",
       "109601            m      Sarasota              USA         Florida   \n",
       "109602            m       Atlanta              USA         Georgia   \n",
       "109603            m         Miami              USA         Florida   \n",
       "\n",
       "        location.lat  ...  dewpoint windchill  windgust  feelslike  \\\n",
       "109599        28.460  ...        15        23        21         24   \n",
       "109600        28.600  ...        16        24        19         24   \n",
       "109601        27.310  ...        18        22        26         23   \n",
       "109602        33.928  ...        12        14        14         14   \n",
       "109603        25.767  ...        18        23        33         25   \n",
       "\n",
       "              date  mintemp  maxtemp  avgtemp  totalsnow  sunhour  \n",
       "109599  2021-03-16       19       29       24        0.0     11.6  \n",
       "109600  2021-03-16       19       29       25        0.0     11.6  \n",
       "109601  2021-03-16       19       24       22        0.0     11.6  \n",
       "109602  2021-03-16       11       18       16        0.0      6.0  \n",
       "109603  2021-03-16       22       24       23        0.0     11.6  \n",
       "\n",
       "[5 rows x 30 columns]"
      ]
     },
     "execution_count": 46,
     "metadata": {},
     "output_type": "execute_result"
    }
   ],
   "source": [
    "df_weather_data.tail()"
   ]
  },
  {
   "cell_type": "code",
   "execution_count": null,
   "id": "70037280-4842-4a9e-8776-4c5ca45a48b5",
   "metadata": {},
   "outputs": [],
   "source": []
  },
  {
   "cell_type": "code",
   "execution_count": 47,
   "id": "7e37fe40-16fe-4846-9373-9308868c98d3",
   "metadata": {},
   "outputs": [],
   "source": [
    "#exporting cleaned data to csv\n",
    "df_weather_data.to_csv('cleaned_data/df_weather_data_updated.csv')"
   ]
  },
  {
   "cell_type": "code",
   "execution_count": null,
   "id": "a366bab2-8780-4e69-91cb-055833f665ac",
   "metadata": {},
   "outputs": [],
   "source": []
  }
 ],
 "metadata": {
  "kernelspec": {
   "display_name": "dev",
   "language": "python",
   "name": "dev"
  },
  "language_info": {
   "codemirror_mode": {
    "name": "ipython",
    "version": 3
   },
   "file_extension": ".py",
   "mimetype": "text/x-python",
   "name": "python",
   "nbconvert_exporter": "python",
   "pygments_lexer": "ipython3",
   "version": "3.7.11"
  }
 },
 "nbformat": 4,
 "nbformat_minor": 5
}
